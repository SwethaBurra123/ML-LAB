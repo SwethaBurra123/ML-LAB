{
  "nbformat": 4,
  "nbformat_minor": 0,
  "metadata": {
    "colab": {
      "name": "Untitled6.ipynb",
      "provenance": []
    },
    "kernelspec": {
      "name": "python3",
      "display_name": "Python 3"
    },
    "language_info": {
      "name": "python"
    }
  },
  "cells": [
    {
      "cell_type": "code",
      "metadata": {
        "colab": {
          "base_uri": "https://localhost:8080/"
        },
        "id": "0U8RETCQhO9U",
        "outputId": "b059a9c2-bb40-4dd4-9e4d-be41fc0a2927"
      },
      "source": [
        "3+7"
      ],
      "execution_count": null,
      "outputs": [
        {
          "output_type": "execute_result",
          "data": {
            "text/plain": [
              "10"
            ]
          },
          "metadata": {},
          "execution_count": 1
        }
      ]
    },
    {
      "cell_type": "code",
      "metadata": {
        "colab": {
          "base_uri": "https://localhost:8080/"
        },
        "id": "QjgxqI5GhpEc",
        "outputId": "201bf3de-0e95-41f8-b920-bd4bc9110eb0"
      },
      "source": [
        "a = 7.1\n",
        "b = 0\n",
        "a+b*2\n"
      ],
      "execution_count": null,
      "outputs": [
        {
          "output_type": "execute_result",
          "data": {
            "text/plain": [
              "7.1"
            ]
          },
          "metadata": {},
          "execution_count": 2
        }
      ]
    },
    {
      "cell_type": "code",
      "metadata": {
        "colab": {
          "base_uri": "https://localhost:8080/"
        },
        "id": "Ri84tQ6AifGE",
        "outputId": "096e729f-6e92-4fe9-f8d2-d62efc85e924"
      },
      "source": [
        "swetha = 17\n",
        "b = 0\n",
        "print(swetha*b + 1)\n",
        "print(swetha**b)"
      ],
      "execution_count": null,
      "outputs": [
        {
          "output_type": "stream",
          "text": [
            "1\n",
            "1\n"
          ],
          "name": "stdout"
        }
      ]
    },
    {
      "cell_type": "code",
      "metadata": {
        "colab": {
          "base_uri": "https://localhost:8080/"
        },
        "id": "cIVPu0ICiwkf",
        "outputId": "2510f402-2fdf-483c-a920-3c51b00aee14"
      },
      "source": [
        "greeting = 'hello this is '\n",
        "name = 'swetha'\n",
        "age = 19\n",
        "print(greeting + name +'!')\n",
        "print('age is ' + str(age))"
      ],
      "execution_count": null,
      "outputs": [
        {
          "output_type": "stream",
          "text": [
            "hello this is swetha!\n",
            "age is 19\n"
          ],
          "name": "stdout"
        }
      ]
    },
    {
      "cell_type": "code",
      "metadata": {
        "colab": {
          "base_uri": "https://localhost:8080/"
        },
        "id": "bTCb0clrjT3R",
        "outputId": "7fbd4b40-cc0a-44e1-b48d-6143d5b47020"
      },
      "source": [
        "numlist = [1,2,3,4,4]\n",
        "numlist"
      ],
      "execution_count": null,
      "outputs": [
        {
          "output_type": "execute_result",
          "data": {
            "text/plain": [
              "[1, 2, 3, 4, 4]"
            ]
          },
          "metadata": {},
          "execution_count": 13
        }
      ]
    },
    {
      "cell_type": "code",
      "metadata": {
        "colab": {
          "base_uri": "https://localhost:8080/"
        },
        "id": "QWRQheXWkb_Y",
        "outputId": "ef2125c6-1fdb-4d22-c6e7-58de211c4b4b"
      },
      "source": [
        "import numpy as np\n",
        "np.mean(numlist)"
      ],
      "execution_count": null,
      "outputs": [
        {
          "output_type": "execute_result",
          "data": {
            "text/plain": [
              "2.8"
            ]
          },
          "metadata": {},
          "execution_count": 14
        }
      ]
    },
    {
      "cell_type": "code",
      "metadata": {
        "colab": {
          "base_uri": "https://localhost:8080/"
        },
        "id": "nyp79Op0kxix",
        "outputId": "b8fd239f-6c43-4db8-c153-b3c25cf3c27e"
      },
      "source": [
        "np.sqrt(4)"
      ],
      "execution_count": null,
      "outputs": [
        {
          "output_type": "execute_result",
          "data": {
            "text/plain": [
              "2.0"
            ]
          },
          "metadata": {},
          "execution_count": 15
        }
      ]
    },
    {
      "cell_type": "code",
      "metadata": {
        "colab": {
          "base_uri": "https://localhost:8080/"
        },
        "id": "shcQKyXMk7lK",
        "outputId": "4927bfa6-bf61-4728-cdaa-8ea2574cc777"
      },
      "source": [
        "np.linspace(1,10,7)\n",
        "funout = np.linspace(1,10,12)\n",
        "funout + 2"
      ],
      "execution_count": null,
      "outputs": [
        {
          "output_type": "execute_result",
          "data": {
            "text/plain": [
              "array([ 3.        ,  3.81818182,  4.63636364,  5.45454545,  6.27272727,\n",
              "        7.09090909,  7.90909091,  8.72727273,  9.54545455, 10.36363636,\n",
              "       11.18181818, 12.        ])"
            ]
          },
          "metadata": {},
          "execution_count": 17
        }
      ]
    },
    {
      "cell_type": "code",
      "metadata": {
        "colab": {
          "base_uri": "https://localhost:8080/"
        },
        "id": "gCdTJm3OlNZ4",
        "outputId": "71d2608f-0bc0-4348-818b-58646ccf0626"
      },
      "source": [
        "np.linspace(1,100,15)"
      ],
      "execution_count": null,
      "outputs": [
        {
          "output_type": "execute_result",
          "data": {
            "text/plain": [
              "array([  1.        ,   8.07142857,  15.14285714,  22.21428571,\n",
              "        29.28571429,  36.35714286,  43.42857143,  50.5       ,\n",
              "        57.57142857,  64.64285714,  71.71428571,  78.78571429,\n",
              "        85.85714286,  92.92857143, 100.        ])"
            ]
          },
          "metadata": {},
          "execution_count": 23
        }
      ]
    },
    {
      "cell_type": "code",
      "metadata": {
        "colab": {
          "base_uri": "https://localhost:8080/"
        },
        "id": "bF_YnigWmULy",
        "outputId": "7900bd69-9e59-4a54-f7f8-5e5e31adb945"
      },
      "source": [
        "np.linspace(1,100,15,dtype = int)"
      ],
      "execution_count": null,
      "outputs": [
        {
          "output_type": "execute_result",
          "data": {
            "text/plain": [
              "array([  1,   8,  15,  22,  29,  36,  43,  50,  57,  64,  71,  78,  85,\n",
              "        92, 100])"
            ]
          },
          "metadata": {},
          "execution_count": 24
        }
      ]
    },
    {
      "cell_type": "code",
      "metadata": {
        "colab": {
          "base_uri": "https://localhost:8080/"
        },
        "id": "9OsNnkHWoFqd",
        "outputId": "9702cd3c-c0ca-4510-f8c3-989089f031a8"
      },
      "source": [
        "np.sqrt(np.linspace(1,100,15,dtype = int))"
      ],
      "execution_count": null,
      "outputs": [
        {
          "output_type": "execute_result",
          "data": {
            "text/plain": [
              "array([ 1.        ,  2.82842712,  3.87298335,  4.69041576,  5.38516481,\n",
              "        6.        ,  6.55743852,  7.07106781,  7.54983444,  8.        ,\n",
              "        8.42614977,  8.83176087,  9.21954446,  9.59166305, 10.        ])"
            ]
          },
          "metadata": {},
          "execution_count": 25
        }
      ]
    },
    {
      "cell_type": "code",
      "metadata": {
        "id": "iiaYOmBdokLU"
      },
      "source": [
        "import matplotlib.pyplot as plt\n",
        "import numpy as np\n"
      ],
      "execution_count": null,
      "outputs": []
    },
    {
      "cell_type": "code",
      "metadata": {
        "colab": {
          "base_uri": "https://localhost:8080/",
          "height": 265
        },
        "id": "zrBGT7Fuo1b3",
        "outputId": "90bb7837-8432-4fda-be68-0d6bcb72f246"
      },
      "source": [
        "plt.plot(1,3,'bs')\n",
        "plt.show()"
      ],
      "execution_count": null,
      "outputs": [
        {
          "output_type": "display_data",
          "data": {
            "image/png": "[encoded data removed]",
            "text/plain": [
              "<Figure size 432x288 with 1 Axes>"
            ]
          },
          "metadata": {
            "needs_background": "light"
          }
        }
      ]
    },
    {
      "cell_type": "code",
      "metadata": {
        "colab": {
          "base_uri": "https://localhost:8080/",
          "height": 282
        },
        "id": "GK3PDWvoqC0a",
        "outputId": "9b4cfe05-c071-44b9-f5ed-3855aed1cd9f"
      },
      "source": [
        "x = np.arange( -9,11)\n",
        "print(x)\n",
        "y = x**2\n",
        "plt.plot(x,y,'r')\n",
        "plt.plot(x,y/2,'gs')\n",
        "plt.show()"
      ],
      "execution_count": null,
      "outputs": [
        {
          "output_type": "stream",
          "text": [
            "[-9 -8 -7 -6 -5 -4 -3 -2 -1  0  1  2  3  4  5  6  7  8  9 10]\n"
          ],
          "name": "stdout"
        },
        {
          "output_type": "display_data",
          "data": {
            "image/png": "[encoded data removed]",
            "text/plain": [
              "<Figure size 432x288 with 1 Axes>"
            ]
          },
          "metadata": {
            "needs_background": "light"
          }
        }
      ]
    },
    {
      "cell_type": "code",
      "metadata": {
        "colab": {
          "base_uri": "https://localhost:8080/",
          "height": 265
        },
        "id": "EzAxapvTr2v_",
        "outputId": "773243ed-2a84-44bf-8750-2bf371238f41"
      },
      "source": [
        "plt.plot([0,3],[-1,1],label = 'first line')\n",
        "plt.plot([-2,0],[-4,1],label = 'second line')\n",
        "plt.legend()\n",
        "plt.show()\n"
      ],
      "execution_count": null,
      "outputs": [
        {
          "output_type": "display_data",
          "data": {
            "image/png": "[encoded data removed]",
            "text/plain": [
              "<Figure size 432x288 with 1 Axes>"
            ]
          },
          "metadata": {
            "needs_background": "light"
          }
        }
      ]
    },
    {
      "cell_type": "code",
      "metadata": {
        "colab": {
          "base_uri": "https://localhost:8080/"
        },
        "id": "1lmFp-R1qS9w",
        "outputId": "fbbbfa34-c667-41cc-f0ea-c3c2956e408d"
      },
      "source": [
        "M = np.random.randint(0,10,size=(5,5))\n",
        "M"
      ],
      "execution_count": null,
      "outputs": [
        {
          "output_type": "execute_result",
          "data": {
            "text/plain": [
              "array([[0, 7, 7, 2, 5],\n",
              "       [1, 2, 0, 7, 0],\n",
              "       [5, 5, 3, 8, 8],\n",
              "       [2, 1, 6, 7, 4],\n",
              "       [9, 0, 8, 3, 5]])"
            ]
          },
          "metadata": {},
          "execution_count": 55
        }
      ]
    },
    {
      "cell_type": "code",
      "metadata": {
        "colab": {
          "base_uri": "https://localhost:8080/",
          "height": 265
        },
        "id": "vCxBHc-wtgGx",
        "outputId": "dd4aeb51-bb11-41a4-e610-821b26b67408"
      },
      "source": [
        "plt.imshow(M)\n",
        "plt.show()"
      ],
      "execution_count": null,
      "outputs": [
        {
          "output_type": "display_data",
          "data": {
            "image/png": "[encoded data removed]",
            "text/plain": [
              "<Figure size 432x288 with 1 Axes>"
            ]
          },
          "metadata": {
            "needs_background": "light"
          }
        }
      ]
    },
    {
      "cell_type": "code",
      "metadata": {
        "colab": {
          "base_uri": "https://localhost:8080/"
        },
        "id": "UJpScF-8t_WJ",
        "outputId": "6d352544-062f-408d-acab-a0bd8b7cb715"
      },
      "source": [
        "vec = np.array([3,4,5,2])\n",
        "s = 2\n",
        "vec*s"
      ],
      "execution_count": null,
      "outputs": [
        {
          "output_type": "execute_result",
          "data": {
            "text/plain": [
              "array([ 6,  8, 10,  4])"
            ]
          },
          "metadata": {},
          "execution_count": 60
        }
      ]
    },
    {
      "cell_type": "code",
      "metadata": {
        "colab": {
          "base_uri": "https://localhost:8080/",
          "height": 265
        },
        "id": "kK4wgXc2t_0f",
        "outputId": "ad5ec18e-0a7c-402b-c540-daea4cb8b132"
      },
      "source": [
        "plt.imshow(M)#drawing the red lines to the opposite corners \n",
        "plt.plot([-0.5,4.5],[-0.5,3.5],'r')\n",
        "plt.plot([3.5,-0.5],[-0.5,3.5],'r')\n",
        "plt.show()"
      ],
      "execution_count": null,
      "outputs": [
        {
          "output_type": "display_data",
          "data": {
            "image/png": "[encoded data removed]",
            "text/plain": [
              "<Figure size 432x288 with 1 Axes>"
            ]
          },
          "metadata": {
            "needs_background": "light"
          }
        }
      ]
    },
    {
      "cell_type": "code",
      "metadata": {
        "colab": {
          "base_uri": "https://localhost:8080/"
        },
        "id": "AHhi44Xet_6R",
        "outputId": "9cb8738c-6843-4793-c95e-59ae5156300c"
      },
      "source": [
        "vec2d=np.array([1,2])\n",
        "s1=2\n",
        "s2=.5\n",
        "s3=-1\n",
        "vec2d[1]"
      ],
      "execution_count": null,
      "outputs": [
        {
          "output_type": "execute_result",
          "data": {
            "text/plain": [
              "2"
            ]
          },
          "metadata": {},
          "execution_count": 64
        }
      ]
    },
    {
      "cell_type": "code",
      "metadata": {
        "colab": {
          "base_uri": "https://localhost:8080/",
          "height": 286
        },
        "id": "aW_2cYJwt_9-",
        "outputId": "dd67a271-ffa9-46ae-830c-a209d7efe39e"
      },
      "source": [
        "plt.plot([0,vec2d[0]],[0,vec2d[1]],'bs-')\n",
        "plt.plot([0,s1*vec2d[0]],[0,vec2d[1]],'r.--')\n",
        "plt.axis('square')\n",
        "plt.xlim([-4,4])\n",
        "plt.ylim([-4,4])\n",
        "plt.grid()\n",
        "plt.legend()\n",
        "plt.show()"
      ],
      "execution_count": null,
      "outputs": [
        {
          "output_type": "stream",
          "text": [
            "No handles with labels found to put in legend.\n"
          ],
          "name": "stderr"
        },
        {
          "output_type": "display_data",
          "data": {
            "image/png": "[encoded data removed]",
            "text/plain": [
              "<Figure size 432x288 with 1 Axes>"
            ]
          },
          "metadata": {
            "needs_background": "light"
          }
        }
      ]
    },
    {
      "cell_type": "code",
      "metadata": {
        "colab": {
          "base_uri": "https://localhost:8080/"
        },
        "id": "v5ihdlCIuABn",
        "outputId": "663f1d44-a858-4b94-c0af-d70f00937e8b"
      },
      "source": [
        "#np.dot(vector1,vector2) gives the dot product of the matrices\n",
        "v1=np.array([5,6,2])\n",
        "v2=np.array([3,0,5])\n",
        "np.dot(v1,v2)\n"
      ],
      "execution_count": null,
      "outputs": [
        {
          "output_type": "execute_result",
          "data": {
            "text/plain": [
              "25"
            ]
          },
          "metadata": {},
          "execution_count": 66
        }
      ]
    },
    {
      "cell_type": "code",
      "metadata": {
        "colab": {
          "base_uri": "https://localhost:8080/"
        },
        "id": "hSY9DgWeuAFO",
        "outputId": "f9353c18-5c0b-41bc-fed7-55c53f8e35f2"
      },
      "source": [
        "#here ifthe dot product of 2 non zero vectors is 0 then the both vectors are orthogonal to each other\n",
        "v3=np.array([-4,3,1])\n",
        "v5=np.array([2,3,-1])\n",
        "np.dot(v3,v5)\n"
      ],
      "execution_count": null,
      "outputs": [
        {
          "output_type": "execute_result",
          "data": {
            "text/plain": [
              "0"
            ]
          },
          "metadata": {},
          "execution_count": 67
        }
      ]
    },
    {
      "cell_type": "code",
      "metadata": {
        "colab": {
          "base_uri": "https://localhost:8080/"
        },
        "id": "Zjfefh07z12d",
        "outputId": "de557d5e-9690-4132-c3a2-febe29b70240"
      },
      "source": [
        "#we get an identity matrix if we use eye() function\n",
        "np.eye(3)\n"
      ],
      "execution_count": null,
      "outputs": [
        {
          "output_type": "execute_result",
          "data": {
            "text/plain": [
              "array([[1., 0., 0.],\n",
              "       [0., 1., 0.],\n",
              "       [0., 0., 1.]])"
            ]
          },
          "metadata": {},
          "execution_count": 68
        }
      ]
    },
    {
      "cell_type": "code",
      "metadata": {
        "colab": {
          "base_uri": "https://localhost:8080/"
        },
        "id": "JGAGx6Ddz15k",
        "outputId": "65b88e37-8969-4488-851a-5fbe5a98a7ee"
      },
      "source": [
        "#zeros()creates a zero matrix with m rows and n columns\n",
        "np.zeros((3,4))"
      ],
      "execution_count": null,
      "outputs": [
        {
          "output_type": "execute_result",
          "data": {
            "text/plain": [
              "array([[0., 0., 0., 0.],\n",
              "       [0., 0., 0., 0.],\n",
              "       [0., 0., 0., 0.]])"
            ]
          },
          "metadata": {},
          "execution_count": 69
        }
      ]
    },
    {
      "cell_type": "code",
      "metadata": {
        "colab": {
          "base_uri": "https://localhost:8080/"
        },
        "id": "ZaCk7CNfz1-n",
        "outputId": "fc75688f-540a-4dca-e115-753c881239c3"
      },
      "source": [
        "#creates a matrix with m rows and n colums with specified value \n",
        "np.full((5,2),4)"
      ],
      "execution_count": null,
      "outputs": [
        {
          "output_type": "execute_result",
          "data": {
            "text/plain": [
              "array([[4, 4],\n",
              "       [4, 4],\n",
              "       [4, 4],\n",
              "       [4, 4],\n",
              "       [4, 4]])"
            ]
          },
          "metadata": {},
          "execution_count": 70
        }
      ]
    },
    {
      "cell_type": "code",
      "metadata": {
        "colab": {
          "base_uri": "https://localhost:8080/"
        },
        "id": "btKSJi3ez2B9",
        "outputId": "73f60683-2922-4af1-8d25-1856e7627866"
      },
      "source": [
        "#creating the a 3*3 matrix\n",
        "m1=np.array([[1,2,3],[4,5,6],[7,8,9]])\n",
        "print(m1)"
      ],
      "execution_count": null,
      "outputs": [
        {
          "output_type": "stream",
          "text": [
            "[[1 2 3]\n",
            " [4 5 6]\n",
            " [7 8 9]]\n"
          ],
          "name": "stdout"
        }
      ]
    },
    {
      "cell_type": "code",
      "metadata": {
        "colab": {
          "base_uri": "https://localhost:8080/"
        },
        "id": "2nwppGu80GBl",
        "outputId": "936fafff-94b9-432a-aeb5-0de194cfdce3"
      },
      "source": [
        "# matrixname.T gives the transpose of the matrix\n",
        "v1=np.array([[2,3,-1],[4,2,6]])\n",
        "print(v1)\n",
        "print()\n",
        "print(v1.T)\n"
      ],
      "execution_count": null,
      "outputs": [
        {
          "output_type": "stream",
          "text": [
            "[[ 2  3 -1]\n",
            " [ 4  2  6]]\n",
            "\n",
            "[[ 2  4]\n",
            " [ 3  2]\n",
            " [-1  6]]\n"
          ],
          "name": "stdout"
        }
      ]
    },
    {
      "cell_type": "code",
      "metadata": {
        "colab": {
          "base_uri": "https://localhost:8080/"
        },
        "id": "TyvMj7z70GGQ",
        "outputId": "e9b5c798-8144-4dbd-a12a-0d1f84a7b052"
      },
      "source": [
        "m2=np.random.randn(3,3)\n",
        "print(m2)\n",
        "print()\n",
        "print(m2.T)"
      ],
      "execution_count": null,
      "outputs": [
        {
          "output_type": "stream",
          "text": [
            "[[ 1.89359263 -0.38399892  0.87505092]\n",
            " [-0.19451689  0.92286721  0.58165639]\n",
            " [ 0.0870638   1.87513988  0.0469061 ]]\n",
            "\n",
            "[[ 1.89359263 -0.19451689  0.0870638 ]\n",
            " [-0.38399892  0.92286721  1.87513988]\n",
            " [ 0.87505092  0.58165639  0.0469061 ]]\n"
          ],
          "name": "stdout"
        }
      ]
    },
    {
      "cell_type": "code",
      "metadata": {
        "colab": {
          "base_uri": "https://localhost:8080/"
        },
        "id": "hF-sSDBU0GKI",
        "outputId": "ed23eb35-0236-4b5d-e6a2-5b11737d9151"
      },
      "source": [
        "#TRANSPOSING THE 2 TIMES GIVE THE SAME MATRIX\n",
        "m2=np.random.randn(3,3)\n",
        "print(m2)\n",
        "print()\n",
        "print(m2.T.T)"
      ],
      "execution_count": null,
      "outputs": [
        {
          "output_type": "stream",
          "text": [
            "[[-0.58831497 -0.14609721 -0.71824043]\n",
            " [-1.12226172  0.38297041 -0.55636337]\n",
            " [-1.98204621  1.66639349  0.05658119]]\n",
            "\n",
            "[[-0.58831497 -0.14609721 -0.71824043]\n",
            " [-1.12226172  0.38297041 -0.55636337]\n",
            " [-1.98204621  1.66639349  0.05658119]]\n"
          ],
          "name": "stdout"
        }
      ]
    },
    {
      "cell_type": "code",
      "metadata": {
        "colab": {
          "base_uri": "https://localhost:8080/"
        },
        "id": "scaN0LW40O1S",
        "outputId": "3860c336-d405-40f9-d525-8b31a669ede4"
      },
      "source": [
        "#we can use matmul(matrix1,matrix2) to multiply matrices or matrix1@matrix2\n",
        "M1=np.random.randn(4,5)#4*5 matrix\n",
        "M2=np.random.randn(4,5)#4*5 matrix\n",
        "print(M1)\n",
        "print()\n",
        "print(M2)\n",
        "print()\n",
        "print(np.matmul(M1,M2.T))#4*5 *  5*4 gives 4*4\n",
        "print()\n",
        "print(M1@M2.T)\n",
        "print()\n",
        "print(np.matmul(M1,M2.T) - M1@M2.T)#to check whether both functions give same result or not"
      ],
      "execution_count": null,
      "outputs": [
        {
          "output_type": "stream",
          "text": [
            "[[ 1.40853463 -0.27289055  0.65564922  1.11611288 -0.97443094]\n",
            " [ 0.69106172 -0.24795764  0.46014546  1.04982698  0.62352703]\n",
            " [ 2.42106373  1.24988213 -0.62473419 -2.20479796 -0.46304371]\n",
            " [-0.10551298 -0.02337244  0.19142174  0.53942424 -0.08286186]]\n",
            "\n",
            "[[ 0.62050881 -1.36013752 -1.44771748 -0.7383236   1.72591814]\n",
            " [-1.81468239 -2.5259472  -0.27850013 -0.17745726  0.23249472]\n",
            " [-0.66386009 -1.12171923 -1.69311353  1.11507617 -1.2299316 ]\n",
            " [-0.76056462  0.12957514 -0.0735637  -0.37693513 -0.43065044]]\n",
            "\n",
            "[[-2.20985853 -2.47394664  0.70398239 -1.15593646]\n",
            " [ 0.40095033 -0.79721287 -0.5559665  -1.2558151 ]\n",
            " [ 1.53539721 -7.09300726 -3.84052406 -0.60298823]\n",
            " [-0.85208902  0.08220943  0.47557797 -0.10450419]]\n",
            "\n",
            "[[-2.20985853 -2.47394664  0.70398239 -1.15593646]\n",
            " [ 0.40095033 -0.79721287 -0.5559665  -1.2558151 ]\n",
            " [ 1.53539721 -7.09300726 -3.84052406 -0.60298823]\n",
            " [-0.85208902  0.08220943  0.47557797 -0.10450419]]\n",
            "\n",
            "[[0. 0. 0. 0.]\n",
            " [0. 0. 0. 0.]\n",
            " [0. 0. 0. 0.]\n",
            " [0. 0. 0. 0.]]\n"
          ],
          "name": "stdout"
        }
      ]
    },
    {
      "cell_type": "code",
      "metadata": {
        "colab": {
          "base_uri": "https://localhost:8080/"
        },
        "id": "PXe5z09z0O4d",
        "outputId": "c69d7e53-6629-4ec6-cf85-625dc209bfa0"
      },
      "source": [
        "#the linalg.inv() functions gives the inverse of the ,atrix as output\n",
        "A=np.random.randn(4,4)\n",
        "Ainv = np.linalg.inv(A)\n",
        "print(A)\n",
        "print()\n",
        "print(Ainv)"
      ],
      "execution_count": null,
      "outputs": [
        {
          "output_type": "stream",
          "text": [
            "[[-0.24408133  1.27184701 -0.98644476 -1.18712592]\n",
            " [ 0.05903647 -1.10574938 -1.20775687 -1.2261932 ]\n",
            " [-1.38115373 -1.12743449 -0.19363559 -1.12533338]\n",
            " [ 0.70834808 -0.1700402   0.06484482 -0.80004491]]\n",
            "\n",
            "[[-0.13796031  0.20923615 -0.43580379  0.49701818]\n",
            " [ 0.4220167  -0.33054912 -0.08716085  0.00301874]\n",
            " [-0.16450339 -0.71564267  0.39863041  0.78021909]\n",
            " [-0.22517601  0.19750509 -0.33501971 -0.74728089]]\n"
          ],
          "name": "stdout"
        }
      ]
    },
    {
      "cell_type": "code",
      "metadata": {
        "colab": {
          "base_uri": "https://localhost:8080/",
          "height": 324
        },
        "id": "tR6jdlrL0O95",
        "outputId": "48450f5f-cd92-4c10-d5c2-4c5c4ec7c194"
      },
      "source": [
        "fig,ax=plt.subplots(1,3,figsize=(6,5))\n",
        "ax[0].imshow(A)\n",
        "ax[0].set_title('A')\n",
        "ax[1].imshow(Ainv)\n",
        "ax[1].set_title('B')\n",
        "plt.show()"
      ],
      "execution_count": null,
      "outputs": [
        {
          "output_type": "display_data",
          "data": {
            "image/png": "[encoded data removed]",
            "text/plain": [
              "<Figure size 432x360 with 3 Axes>"
            ]
          },
          "metadata": {
            "needs_background": "light"
          }
        }
      ]
    },
    {
      "cell_type": "code",
      "metadata": {
        "id": "OQeE7oeO0PBE"
      },
      "source": [
        ""
      ],
      "execution_count": null,
      "outputs": []
    }
  ]
}